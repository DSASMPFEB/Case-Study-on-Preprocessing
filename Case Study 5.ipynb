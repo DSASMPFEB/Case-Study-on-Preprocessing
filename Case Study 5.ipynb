{
 "cells": [
  {
   "cell_type": "code",
   "execution_count": 1,
   "id": "bf5bac95-71bc-4f57-bbcc-22cc3f5a4191",
   "metadata": {},
   "outputs": [],
   "source": [
    "import numpy as np"
   ]
  },
  {
   "cell_type": "code",
   "execution_count": 2,
   "id": "78fe11fc-c358-4466-9b35-478ad3f2da28",
   "metadata": {},
   "outputs": [],
   "source": [
    "import pandas as pd"
   ]
  },
  {
   "cell_type": "code",
   "execution_count": 3,
   "id": "0e6e4f3c-f412-44e9-a9a4-f18a107c92f6",
   "metadata": {},
   "outputs": [],
   "source": [
    "import seaborn as sns"
   ]
  },
  {
   "cell_type": "code",
   "execution_count": 4,
   "id": "2d5681bc-4089-4734-912d-845c4789c4f5",
   "metadata": {},
   "outputs": [],
   "source": [
    "import matplotlib.pyplot as plt"
   ]
  },
  {
   "cell_type": "markdown",
   "id": "d0fc3b0d-b1f1-404d-9ce3-f16a567d1a19",
   "metadata": {},
   "source": [
    "Dataset Overview"
   ]
  },
  {
   "cell_type": "code",
   "execution_count": 5,
   "id": "0657e692-f8c8-4464-b6a8-415badee65a1",
   "metadata": {},
   "outputs": [],
   "source": [
    "dt = pd.read_csv(r\"C:\\Users\\kevin\\OneDrive\\Documents\\ANNA DSA Course\\DATA SETS\\House_Pricing.csv\")"
   ]
  },
  {
   "cell_type": "code",
   "execution_count": 6,
   "id": "dd859938-3828-49ef-b848-e365c7af4746",
   "metadata": {},
   "outputs": [
    {
     "data": {
      "text/html": [
       "<div>\n",
       "<style scoped>\n",
       "    .dataframe tbody tr th:only-of-type {\n",
       "        vertical-align: middle;\n",
       "    }\n",
       "\n",
       "    .dataframe tbody tr th {\n",
       "        vertical-align: top;\n",
       "    }\n",
       "\n",
       "    .dataframe thead th {\n",
       "        text-align: right;\n",
       "    }\n",
       "</style>\n",
       "<table border=\"1\" class=\"dataframe\">\n",
       "  <thead>\n",
       "    <tr style=\"text-align: right;\">\n",
       "      <th></th>\n",
       "      <th>ID</th>\n",
       "      <th>Date House was Sold</th>\n",
       "      <th>Sale Price</th>\n",
       "      <th>No of Bedrooms</th>\n",
       "      <th>No of Bathrooms</th>\n",
       "      <th>Flat Area (in Sqft)</th>\n",
       "      <th>Lot Area (in Sqft)</th>\n",
       "      <th>No of Floors</th>\n",
       "      <th>Waterfront View</th>\n",
       "      <th>No of Times Visited</th>\n",
       "      <th>...</th>\n",
       "      <th>Overall Grade</th>\n",
       "      <th>Area of the House from Basement (in Sqft)</th>\n",
       "      <th>Basement Area (in Sqft)</th>\n",
       "      <th>Age of House (in Years)</th>\n",
       "      <th>Renovated Year</th>\n",
       "      <th>Zipcode</th>\n",
       "      <th>Latitude</th>\n",
       "      <th>Longitude</th>\n",
       "      <th>Living Area after Renovation (in Sqft)</th>\n",
       "      <th>Lot Area after Renovation (in Sqft)</th>\n",
       "    </tr>\n",
       "  </thead>\n",
       "  <tbody>\n",
       "    <tr>\n",
       "      <th>0</th>\n",
       "      <td>7129300520</td>\n",
       "      <td>14 October 2017</td>\n",
       "      <td>221900.0</td>\n",
       "      <td>3</td>\n",
       "      <td>1.00</td>\n",
       "      <td>1180.0</td>\n",
       "      <td>5650.0</td>\n",
       "      <td>1.0</td>\n",
       "      <td>No</td>\n",
       "      <td>NaN</td>\n",
       "      <td>...</td>\n",
       "      <td>7</td>\n",
       "      <td>1180.0</td>\n",
       "      <td>0</td>\n",
       "      <td>63</td>\n",
       "      <td>0</td>\n",
       "      <td>98178.0</td>\n",
       "      <td>47.5112</td>\n",
       "      <td>-122.257</td>\n",
       "      <td>1340.0</td>\n",
       "      <td>5650</td>\n",
       "    </tr>\n",
       "    <tr>\n",
       "      <th>1</th>\n",
       "      <td>6414100192</td>\n",
       "      <td>14 December 2017</td>\n",
       "      <td>538000.0</td>\n",
       "      <td>3</td>\n",
       "      <td>2.25</td>\n",
       "      <td>2570.0</td>\n",
       "      <td>7242.0</td>\n",
       "      <td>2.0</td>\n",
       "      <td>No</td>\n",
       "      <td>NaN</td>\n",
       "      <td>...</td>\n",
       "      <td>7</td>\n",
       "      <td>2170.0</td>\n",
       "      <td>400</td>\n",
       "      <td>67</td>\n",
       "      <td>1991</td>\n",
       "      <td>98125.0</td>\n",
       "      <td>47.7210</td>\n",
       "      <td>-122.319</td>\n",
       "      <td>1690.0</td>\n",
       "      <td>7639</td>\n",
       "    </tr>\n",
       "  </tbody>\n",
       "</table>\n",
       "<p>2 rows × 21 columns</p>\n",
       "</div>"
      ],
      "text/plain": [
       "           ID Date House was Sold  Sale Price  No of Bedrooms  \\\n",
       "0  7129300520     14 October 2017    221900.0               3   \n",
       "1  6414100192    14 December 2017    538000.0               3   \n",
       "\n",
       "   No of Bathrooms  Flat Area (in Sqft)  Lot Area (in Sqft)  No of Floors  \\\n",
       "0             1.00               1180.0              5650.0           1.0   \n",
       "1             2.25               2570.0              7242.0           2.0   \n",
       "\n",
       "  Waterfront View No of Times Visited  ... Overall Grade  \\\n",
       "0              No                 NaN  ...             7   \n",
       "1              No                 NaN  ...             7   \n",
       "\n",
       "   Area of the House from Basement (in Sqft)  Basement Area (in Sqft)  \\\n",
       "0                                     1180.0                        0   \n",
       "1                                     2170.0                      400   \n",
       "\n",
       "   Age of House (in Years)  Renovated Year  Zipcode  Latitude  Longitude  \\\n",
       "0                       63               0  98178.0   47.5112   -122.257   \n",
       "1                       67            1991  98125.0   47.7210   -122.319   \n",
       "\n",
       "   Living Area after Renovation (in Sqft)  Lot Area after Renovation (in Sqft)  \n",
       "0                                  1340.0                                 5650  \n",
       "1                                  1690.0                                 7639  \n",
       "\n",
       "[2 rows x 21 columns]"
      ]
     },
     "execution_count": 6,
     "metadata": {},
     "output_type": "execute_result"
    }
   ],
   "source": [
    "dt.head(2)"
   ]
  },
  {
   "cell_type": "code",
   "execution_count": 7,
   "id": "f49c7dd9-9108-48a9-b9d9-1dfc4e3f547d",
   "metadata": {},
   "outputs": [
    {
     "data": {
      "text/plain": [
       "(21613, 21)"
      ]
     },
     "execution_count": 7,
     "metadata": {},
     "output_type": "execute_result"
    }
   ],
   "source": [
    "dt.shape"
   ]
  },
  {
   "cell_type": "code",
   "execution_count": 8,
   "id": "d3b30c07-de3c-4b59-ae71-c53b1a891d85",
   "metadata": {},
   "outputs": [
    {
     "name": "stdout",
     "output_type": "stream",
     "text": [
      "<class 'pandas.core.frame.DataFrame'>\n",
      "RangeIndex: 21613 entries, 0 to 21612\n",
      "Data columns (total 21 columns):\n",
      " #   Column                                     Non-Null Count  Dtype  \n",
      "---  ------                                     --------------  -----  \n",
      " 0   ID                                         21613 non-null  int64  \n",
      " 1   Date House was Sold                        21613 non-null  object \n",
      " 2   Sale Price                                 21609 non-null  float64\n",
      " 3   No of Bedrooms                             21613 non-null  int64  \n",
      " 4   No of Bathrooms                            21609 non-null  float64\n",
      " 5   Flat Area (in Sqft)                        21604 non-null  float64\n",
      " 6   Lot Area (in Sqft)                         21604 non-null  float64\n",
      " 7   No of Floors                               21613 non-null  float64\n",
      " 8   Waterfront View                            21613 non-null  object \n",
      " 9   No of Times Visited                        2124 non-null   object \n",
      " 10  Condition of the House                     21613 non-null  object \n",
      " 11  Overall Grade                              21613 non-null  int64  \n",
      " 12  Area of the House from Basement (in Sqft)  21610 non-null  float64\n",
      " 13  Basement Area (in Sqft)                    21613 non-null  int64  \n",
      " 14  Age of House (in Years)                    21613 non-null  int64  \n",
      " 15  Renovated Year                             21613 non-null  int64  \n",
      " 16  Zipcode                                    21612 non-null  float64\n",
      " 17  Latitude                                   21612 non-null  float64\n",
      " 18  Longitude                                  21612 non-null  float64\n",
      " 19  Living Area after Renovation (in Sqft)     21612 non-null  float64\n",
      " 20  Lot Area after Renovation (in Sqft)        21613 non-null  int64  \n",
      "dtypes: float64(10), int64(7), object(4)\n",
      "memory usage: 3.5+ MB\n"
     ]
    }
   ],
   "source": [
    "dt.info()"
   ]
  },
  {
   "cell_type": "code",
   "execution_count": 9,
   "id": "596f117a-6908-461f-8f61-4139df02d164",
   "metadata": {},
   "outputs": [
    {
     "data": {
      "text/html": [
       "<div>\n",
       "<style scoped>\n",
       "    .dataframe tbody tr th:only-of-type {\n",
       "        vertical-align: middle;\n",
       "    }\n",
       "\n",
       "    .dataframe tbody tr th {\n",
       "        vertical-align: top;\n",
       "    }\n",
       "\n",
       "    .dataframe thead th {\n",
       "        text-align: right;\n",
       "    }\n",
       "</style>\n",
       "<table border=\"1\" class=\"dataframe\">\n",
       "  <thead>\n",
       "    <tr style=\"text-align: right;\">\n",
       "      <th></th>\n",
       "      <th>ID</th>\n",
       "      <th>Sale Price</th>\n",
       "      <th>No of Bedrooms</th>\n",
       "      <th>No of Bathrooms</th>\n",
       "      <th>Flat Area (in Sqft)</th>\n",
       "      <th>Lot Area (in Sqft)</th>\n",
       "      <th>No of Floors</th>\n",
       "      <th>Overall Grade</th>\n",
       "      <th>Area of the House from Basement (in Sqft)</th>\n",
       "      <th>Basement Area (in Sqft)</th>\n",
       "      <th>Age of House (in Years)</th>\n",
       "      <th>Renovated Year</th>\n",
       "      <th>Zipcode</th>\n",
       "      <th>Latitude</th>\n",
       "      <th>Longitude</th>\n",
       "      <th>Living Area after Renovation (in Sqft)</th>\n",
       "      <th>Lot Area after Renovation (in Sqft)</th>\n",
       "    </tr>\n",
       "  </thead>\n",
       "  <tbody>\n",
       "    <tr>\n",
       "      <th>count</th>\n",
       "      <td>2.161300e+04</td>\n",
       "      <td>2.160900e+04</td>\n",
       "      <td>21613.000000</td>\n",
       "      <td>21609.000000</td>\n",
       "      <td>21604.000000</td>\n",
       "      <td>2.160400e+04</td>\n",
       "      <td>21613.000000</td>\n",
       "      <td>21613.000000</td>\n",
       "      <td>21610.000000</td>\n",
       "      <td>21613.000000</td>\n",
       "      <td>21613.000000</td>\n",
       "      <td>21613.000000</td>\n",
       "      <td>21612.000000</td>\n",
       "      <td>21612.000000</td>\n",
       "      <td>21612.000000</td>\n",
       "      <td>21612.000000</td>\n",
       "      <td>21613.000000</td>\n",
       "    </tr>\n",
       "    <tr>\n",
       "      <th>mean</th>\n",
       "      <td>4.580302e+09</td>\n",
       "      <td>5.401984e+05</td>\n",
       "      <td>3.370842</td>\n",
       "      <td>2.114732</td>\n",
       "      <td>2079.931772</td>\n",
       "      <td>1.510776e+04</td>\n",
       "      <td>1.494309</td>\n",
       "      <td>7.623467</td>\n",
       "      <td>1788.344193</td>\n",
       "      <td>291.509045</td>\n",
       "      <td>46.994864</td>\n",
       "      <td>84.402258</td>\n",
       "      <td>98077.937766</td>\n",
       "      <td>47.560048</td>\n",
       "      <td>-122.213892</td>\n",
       "      <td>1986.538914</td>\n",
       "      <td>12768.455652</td>\n",
       "    </tr>\n",
       "    <tr>\n",
       "      <th>std</th>\n",
       "      <td>2.876566e+09</td>\n",
       "      <td>3.673890e+05</td>\n",
       "      <td>0.930062</td>\n",
       "      <td>0.770138</td>\n",
       "      <td>918.487597</td>\n",
       "      <td>4.142827e+04</td>\n",
       "      <td>0.539989</td>\n",
       "      <td>1.105439</td>\n",
       "      <td>827.982604</td>\n",
       "      <td>442.575043</td>\n",
       "      <td>29.373411</td>\n",
       "      <td>401.679240</td>\n",
       "      <td>53.505425</td>\n",
       "      <td>0.138565</td>\n",
       "      <td>0.140830</td>\n",
       "      <td>685.404255</td>\n",
       "      <td>27304.179631</td>\n",
       "    </tr>\n",
       "    <tr>\n",
       "      <th>min</th>\n",
       "      <td>1.000102e+06</td>\n",
       "      <td>7.500000e+04</td>\n",
       "      <td>0.000000</td>\n",
       "      <td>0.000000</td>\n",
       "      <td>290.000000</td>\n",
       "      <td>5.200000e+02</td>\n",
       "      <td>1.000000</td>\n",
       "      <td>1.000000</td>\n",
       "      <td>290.000000</td>\n",
       "      <td>0.000000</td>\n",
       "      <td>3.000000</td>\n",
       "      <td>0.000000</td>\n",
       "      <td>98001.000000</td>\n",
       "      <td>47.155900</td>\n",
       "      <td>-122.519000</td>\n",
       "      <td>399.000000</td>\n",
       "      <td>651.000000</td>\n",
       "    </tr>\n",
       "    <tr>\n",
       "      <th>25%</th>\n",
       "      <td>2.123049e+09</td>\n",
       "      <td>3.219500e+05</td>\n",
       "      <td>3.000000</td>\n",
       "      <td>1.750000</td>\n",
       "      <td>1429.250000</td>\n",
       "      <td>5.040000e+03</td>\n",
       "      <td>1.000000</td>\n",
       "      <td>7.000000</td>\n",
       "      <td>1190.000000</td>\n",
       "      <td>0.000000</td>\n",
       "      <td>21.000000</td>\n",
       "      <td>0.000000</td>\n",
       "      <td>98033.000000</td>\n",
       "      <td>47.470975</td>\n",
       "      <td>-122.328000</td>\n",
       "      <td>1490.000000</td>\n",
       "      <td>5100.000000</td>\n",
       "    </tr>\n",
       "    <tr>\n",
       "      <th>50%</th>\n",
       "      <td>3.904930e+09</td>\n",
       "      <td>4.500000e+05</td>\n",
       "      <td>3.000000</td>\n",
       "      <td>2.250000</td>\n",
       "      <td>1910.000000</td>\n",
       "      <td>7.617500e+03</td>\n",
       "      <td>1.500000</td>\n",
       "      <td>7.000000</td>\n",
       "      <td>1560.000000</td>\n",
       "      <td>0.000000</td>\n",
       "      <td>43.000000</td>\n",
       "      <td>0.000000</td>\n",
       "      <td>98065.000000</td>\n",
       "      <td>47.571800</td>\n",
       "      <td>-122.230000</td>\n",
       "      <td>1840.000000</td>\n",
       "      <td>7620.000000</td>\n",
       "    </tr>\n",
       "    <tr>\n",
       "      <th>75%</th>\n",
       "      <td>7.308900e+09</td>\n",
       "      <td>6.450000e+05</td>\n",
       "      <td>4.000000</td>\n",
       "      <td>2.500000</td>\n",
       "      <td>2550.000000</td>\n",
       "      <td>1.068825e+04</td>\n",
       "      <td>2.000000</td>\n",
       "      <td>8.000000</td>\n",
       "      <td>2210.000000</td>\n",
       "      <td>560.000000</td>\n",
       "      <td>67.000000</td>\n",
       "      <td>0.000000</td>\n",
       "      <td>98118.000000</td>\n",
       "      <td>47.678000</td>\n",
       "      <td>-122.125000</td>\n",
       "      <td>2360.000000</td>\n",
       "      <td>10083.000000</td>\n",
       "    </tr>\n",
       "    <tr>\n",
       "      <th>max</th>\n",
       "      <td>9.900000e+09</td>\n",
       "      <td>7.700000e+06</td>\n",
       "      <td>33.000000</td>\n",
       "      <td>8.000000</td>\n",
       "      <td>13540.000000</td>\n",
       "      <td>1.651359e+06</td>\n",
       "      <td>3.500000</td>\n",
       "      <td>10.000000</td>\n",
       "      <td>9410.000000</td>\n",
       "      <td>4820.000000</td>\n",
       "      <td>118.000000</td>\n",
       "      <td>2015.000000</td>\n",
       "      <td>98199.000000</td>\n",
       "      <td>47.777600</td>\n",
       "      <td>-121.315000</td>\n",
       "      <td>6210.000000</td>\n",
       "      <td>871200.000000</td>\n",
       "    </tr>\n",
       "  </tbody>\n",
       "</table>\n",
       "</div>"
      ],
      "text/plain": [
       "                 ID    Sale Price  No of Bedrooms  No of Bathrooms  \\\n",
       "count  2.161300e+04  2.160900e+04    21613.000000     21609.000000   \n",
       "mean   4.580302e+09  5.401984e+05        3.370842         2.114732   \n",
       "std    2.876566e+09  3.673890e+05        0.930062         0.770138   \n",
       "min    1.000102e+06  7.500000e+04        0.000000         0.000000   \n",
       "25%    2.123049e+09  3.219500e+05        3.000000         1.750000   \n",
       "50%    3.904930e+09  4.500000e+05        3.000000         2.250000   \n",
       "75%    7.308900e+09  6.450000e+05        4.000000         2.500000   \n",
       "max    9.900000e+09  7.700000e+06       33.000000         8.000000   \n",
       "\n",
       "       Flat Area (in Sqft)  Lot Area (in Sqft)  No of Floors  Overall Grade  \\\n",
       "count         21604.000000        2.160400e+04  21613.000000   21613.000000   \n",
       "mean           2079.931772        1.510776e+04      1.494309       7.623467   \n",
       "std             918.487597        4.142827e+04      0.539989       1.105439   \n",
       "min             290.000000        5.200000e+02      1.000000       1.000000   \n",
       "25%            1429.250000        5.040000e+03      1.000000       7.000000   \n",
       "50%            1910.000000        7.617500e+03      1.500000       7.000000   \n",
       "75%            2550.000000        1.068825e+04      2.000000       8.000000   \n",
       "max           13540.000000        1.651359e+06      3.500000      10.000000   \n",
       "\n",
       "       Area of the House from Basement (in Sqft)  Basement Area (in Sqft)  \\\n",
       "count                               21610.000000             21613.000000   \n",
       "mean                                 1788.344193               291.509045   \n",
       "std                                   827.982604               442.575043   \n",
       "min                                   290.000000                 0.000000   \n",
       "25%                                  1190.000000                 0.000000   \n",
       "50%                                  1560.000000                 0.000000   \n",
       "75%                                  2210.000000               560.000000   \n",
       "max                                  9410.000000              4820.000000   \n",
       "\n",
       "       Age of House (in Years)  Renovated Year       Zipcode      Latitude  \\\n",
       "count             21613.000000    21613.000000  21612.000000  21612.000000   \n",
       "mean                 46.994864       84.402258  98077.937766     47.560048   \n",
       "std                  29.373411      401.679240     53.505425      0.138565   \n",
       "min                   3.000000        0.000000  98001.000000     47.155900   \n",
       "25%                  21.000000        0.000000  98033.000000     47.470975   \n",
       "50%                  43.000000        0.000000  98065.000000     47.571800   \n",
       "75%                  67.000000        0.000000  98118.000000     47.678000   \n",
       "max                 118.000000     2015.000000  98199.000000     47.777600   \n",
       "\n",
       "          Longitude  Living Area after Renovation (in Sqft)  \\\n",
       "count  21612.000000                            21612.000000   \n",
       "mean    -122.213892                             1986.538914   \n",
       "std        0.140830                              685.404255   \n",
       "min     -122.519000                              399.000000   \n",
       "25%     -122.328000                             1490.000000   \n",
       "50%     -122.230000                             1840.000000   \n",
       "75%     -122.125000                             2360.000000   \n",
       "max     -121.315000                             6210.000000   \n",
       "\n",
       "       Lot Area after Renovation (in Sqft)  \n",
       "count                         21613.000000  \n",
       "mean                          12768.455652  \n",
       "std                           27304.179631  \n",
       "min                             651.000000  \n",
       "25%                            5100.000000  \n",
       "50%                            7620.000000  \n",
       "75%                           10083.000000  \n",
       "max                          871200.000000  "
      ]
     },
     "execution_count": 9,
     "metadata": {},
     "output_type": "execute_result"
    }
   ],
   "source": [
    "dt.describe()"
   ]
  },
  {
   "cell_type": "markdown",
   "id": "73b97f4b-ef2f-4d48-a085-e32e8cc9d7f3",
   "metadata": {},
   "source": [
    "Duplicate Removal"
   ]
  },
  {
   "cell_type": "code",
   "execution_count": 10,
   "id": "753fa153-619b-4f48-8880-ce38fcca3d15",
   "metadata": {},
   "outputs": [
    {
     "data": {
      "text/plain": [
       "0        False\n",
       "1        False\n",
       "2        False\n",
       "3        False\n",
       "4        False\n",
       "         ...  \n",
       "21608    False\n",
       "21609    False\n",
       "21610    False\n",
       "21611    False\n",
       "21612    False\n",
       "Length: 21613, dtype: bool"
      ]
     },
     "execution_count": 10,
     "metadata": {},
     "output_type": "execute_result"
    }
   ],
   "source": [
    "dt.duplicated()# no duplicates"
   ]
  },
  {
   "cell_type": "code",
   "execution_count": 11,
   "id": "fc5e0887-0670-42bf-bd3d-7c2ec028e520",
   "metadata": {},
   "outputs": [],
   "source": [
    "dt = dt.drop_duplicates() #if any"
   ]
  },
  {
   "cell_type": "code",
   "execution_count": 12,
   "id": "a4654d5d-e19d-45f4-9b3e-42d2f2c95e6e",
   "metadata": {},
   "outputs": [
    {
     "data": {
      "text/plain": [
       "(21613, 21)"
      ]
     },
     "execution_count": 12,
     "metadata": {},
     "output_type": "execute_result"
    }
   ],
   "source": [
    "dt.shape"
   ]
  },
  {
   "cell_type": "markdown",
   "id": "b0595f52-c704-434b-b467-215a39ba12a8",
   "metadata": {},
   "source": [
    "Handling Missing Values"
   ]
  },
  {
   "cell_type": "code",
   "execution_count": 13,
   "id": "75033b5c-71d3-4c9c-89b1-f4e0775c08fb",
   "metadata": {},
   "outputs": [
    {
     "data": {
      "text/plain": [
       "ID                                               0\n",
       "Date House was Sold                              0\n",
       "Sale Price                                       4\n",
       "No of Bedrooms                                   0\n",
       "No of Bathrooms                                  4\n",
       "Flat Area (in Sqft)                              9\n",
       "Lot Area (in Sqft)                               9\n",
       "No of Floors                                     0\n",
       "Waterfront View                                  0\n",
       "No of Times Visited                          19489\n",
       "Condition of the House                           0\n",
       "Overall Grade                                    0\n",
       "Area of the House from Basement (in Sqft)        3\n",
       "Basement Area (in Sqft)                          0\n",
       "Age of House (in Years)                          0\n",
       "Renovated Year                                   0\n",
       "Zipcode                                          1\n",
       "Latitude                                         1\n",
       "Longitude                                        1\n",
       "Living Area after Renovation (in Sqft)           1\n",
       "Lot Area after Renovation (in Sqft)              0\n",
       "dtype: int64"
      ]
     },
     "execution_count": 13,
     "metadata": {},
     "output_type": "execute_result"
    }
   ],
   "source": [
    "dt.isna().sum()"
   ]
  },
  {
   "cell_type": "code",
   "execution_count": 14,
   "id": "cb66ca74-85b0-444a-a842-90eb495b6a8e",
   "metadata": {},
   "outputs": [
    {
     "data": {
      "text/plain": [
       "0        NaN\n",
       "1        NaN\n",
       "2        NaN\n",
       "3        NaN\n",
       "4        NaN\n",
       "        ... \n",
       "21608    NaN\n",
       "21609    NaN\n",
       "21610    NaN\n",
       "21611    NaN\n",
       "21612    NaN\n",
       "Name: No of Times Visited, Length: 21613, dtype: object"
      ]
     },
     "execution_count": 14,
     "metadata": {},
     "output_type": "execute_result"
    }
   ],
   "source": [
    "dt[\"No of Times Visited\"]"
   ]
  },
  {
   "cell_type": "code",
   "execution_count": 15,
   "id": "0a08658e-f2a5-4eab-8b6a-acb78570928a",
   "metadata": {},
   "outputs": [],
   "source": [
    "dt = dt.drop([\"No of Times Visited\"], axis = 1)"
   ]
  },
  {
   "cell_type": "code",
   "execution_count": 16,
   "id": "b93afadb-8638-462d-b199-d3e3cc1b4f89",
   "metadata": {},
   "outputs": [
    {
     "data": {
      "text/plain": [
       "ID                                           0\n",
       "Date House was Sold                          0\n",
       "Sale Price                                   4\n",
       "No of Bedrooms                               0\n",
       "No of Bathrooms                              4\n",
       "Flat Area (in Sqft)                          9\n",
       "Lot Area (in Sqft)                           9\n",
       "No of Floors                                 0\n",
       "Waterfront View                              0\n",
       "Condition of the House                       0\n",
       "Overall Grade                                0\n",
       "Area of the House from Basement (in Sqft)    3\n",
       "Basement Area (in Sqft)                      0\n",
       "Age of House (in Years)                      0\n",
       "Renovated Year                               0\n",
       "Zipcode                                      1\n",
       "Latitude                                     1\n",
       "Longitude                                    1\n",
       "Living Area after Renovation (in Sqft)       1\n",
       "Lot Area after Renovation (in Sqft)          0\n",
       "dtype: int64"
      ]
     },
     "execution_count": 16,
     "metadata": {},
     "output_type": "execute_result"
    }
   ],
   "source": [
    "dt.isna().sum()"
   ]
  },
  {
   "cell_type": "code",
   "execution_count": 17,
   "id": "14dd82f5-fd39-437b-a85c-f0c48b77f07c",
   "metadata": {},
   "outputs": [
    {
     "data": {
      "text/plain": [
       "(21613, 20)"
      ]
     },
     "execution_count": 17,
     "metadata": {},
     "output_type": "execute_result"
    }
   ],
   "source": [
    "dt.shape"
   ]
  },
  {
   "cell_type": "code",
   "execution_count": 18,
   "id": "fde9dc71-9b5d-42fd-bac8-a606a38d6172",
   "metadata": {},
   "outputs": [
    {
     "data": {
      "text/html": [
       "<div>\n",
       "<style scoped>\n",
       "    .dataframe tbody tr th:only-of-type {\n",
       "        vertical-align: middle;\n",
       "    }\n",
       "\n",
       "    .dataframe tbody tr th {\n",
       "        vertical-align: top;\n",
       "    }\n",
       "\n",
       "    .dataframe thead th {\n",
       "        text-align: right;\n",
       "    }\n",
       "</style>\n",
       "<table border=\"1\" class=\"dataframe\">\n",
       "  <thead>\n",
       "    <tr style=\"text-align: right;\">\n",
       "      <th></th>\n",
       "      <th>ID</th>\n",
       "      <th>Date House was Sold</th>\n",
       "      <th>Sale Price</th>\n",
       "      <th>No of Bedrooms</th>\n",
       "      <th>No of Bathrooms</th>\n",
       "      <th>Flat Area (in Sqft)</th>\n",
       "      <th>Lot Area (in Sqft)</th>\n",
       "      <th>No of Floors</th>\n",
       "      <th>Waterfront View</th>\n",
       "      <th>Condition of the House</th>\n",
       "      <th>Overall Grade</th>\n",
       "      <th>Area of the House from Basement (in Sqft)</th>\n",
       "      <th>Basement Area (in Sqft)</th>\n",
       "      <th>Age of House (in Years)</th>\n",
       "      <th>Renovated Year</th>\n",
       "      <th>Zipcode</th>\n",
       "      <th>Latitude</th>\n",
       "      <th>Longitude</th>\n",
       "      <th>Living Area after Renovation (in Sqft)</th>\n",
       "      <th>Lot Area after Renovation (in Sqft)</th>\n",
       "    </tr>\n",
       "  </thead>\n",
       "  <tbody>\n",
       "    <tr>\n",
       "      <th>0</th>\n",
       "      <td>7129300520</td>\n",
       "      <td>14 October 2017</td>\n",
       "      <td>221900.0</td>\n",
       "      <td>3</td>\n",
       "      <td>1.0</td>\n",
       "      <td>1180.0</td>\n",
       "      <td>5650.0</td>\n",
       "      <td>1.0</td>\n",
       "      <td>No</td>\n",
       "      <td>Fair</td>\n",
       "      <td>7</td>\n",
       "      <td>1180.0</td>\n",
       "      <td>0</td>\n",
       "      <td>63</td>\n",
       "      <td>0</td>\n",
       "      <td>98178.0</td>\n",
       "      <td>47.5112</td>\n",
       "      <td>-122.257</td>\n",
       "      <td>1340.0</td>\n",
       "      <td>5650</td>\n",
       "    </tr>\n",
       "  </tbody>\n",
       "</table>\n",
       "</div>"
      ],
      "text/plain": [
       "           ID Date House was Sold  Sale Price  No of Bedrooms  \\\n",
       "0  7129300520     14 October 2017    221900.0               3   \n",
       "\n",
       "   No of Bathrooms  Flat Area (in Sqft)  Lot Area (in Sqft)  No of Floors  \\\n",
       "0              1.0               1180.0              5650.0           1.0   \n",
       "\n",
       "  Waterfront View Condition of the House  Overall Grade  \\\n",
       "0              No                   Fair              7   \n",
       "\n",
       "   Area of the House from Basement (in Sqft)  Basement Area (in Sqft)  \\\n",
       "0                                     1180.0                        0   \n",
       "\n",
       "   Age of House (in Years)  Renovated Year  Zipcode  Latitude  Longitude  \\\n",
       "0                       63               0  98178.0   47.5112   -122.257   \n",
       "\n",
       "   Living Area after Renovation (in Sqft)  Lot Area after Renovation (in Sqft)  \n",
       "0                                  1340.0                                 5650  "
      ]
     },
     "execution_count": 18,
     "metadata": {},
     "output_type": "execute_result"
    }
   ],
   "source": [
    "dt.head(1)"
   ]
  },
  {
   "cell_type": "code",
   "execution_count": 19,
   "id": "01f68f2d-f4ed-4978-9b9d-f420e2338bdf",
   "metadata": {},
   "outputs": [],
   "source": [
    "num_dt = dt.select_dtypes(include = \"number\")\n",
    "cat_dt = dt.select_dtypes(include = \"object\")"
   ]
  },
  {
   "cell_type": "code",
   "execution_count": 20,
   "id": "6dfd93d2-5dec-418b-9284-92a19a650e41",
   "metadata": {},
   "outputs": [],
   "source": [
    "num_cols = num_dt.columns.to_list()"
   ]
  },
  {
   "cell_type": "code",
   "execution_count": 21,
   "id": "32e9b576-ef9c-45ca-a1cf-5ce83f4b61f4",
   "metadata": {},
   "outputs": [],
   "source": [
    "cat_cols = cat_dt.columns.to_list()"
   ]
  },
  {
   "cell_type": "code",
   "execution_count": 22,
   "id": "f8f67cb0-408f-4fa5-9b56-a1eddb63dd7e",
   "metadata": {},
   "outputs": [],
   "source": [
    "# to know about each column distribution\n",
    "#for col in num_cols:\n",
    "    #plt.hist(num_dt[col])\n",
    "    #plt.title(\"Histogram of {} coulmn\".format(col))\n",
    "    #plt.xlabel(col)\n",
    "    #plt.ylabel(\"count\")\n",
    "    #plt.show()"
   ]
  },
  {
   "cell_type": "code",
   "execution_count": 23,
   "id": "6d6ac69f-0189-4a6e-8fe4-fd0803282f71",
   "metadata": {},
   "outputs": [
    {
     "data": {
      "text/plain": [
       "array([[<Axes: title={'center': 'ID'}>,\n",
       "        <Axes: title={'center': 'Sale Price'}>,\n",
       "        <Axes: title={'center': 'No of Bedrooms'}>,\n",
       "        <Axes: title={'center': 'No of Bathrooms'}>],\n",
       "       [<Axes: title={'center': 'Flat Area (in Sqft)'}>,\n",
       "        <Axes: title={'center': 'Lot Area (in Sqft)'}>,\n",
       "        <Axes: title={'center': 'No of Floors'}>,\n",
       "        <Axes: title={'center': 'Overall Grade'}>],\n",
       "       [<Axes: title={'center': 'Area of the House from Basement (in Sqft)'}>,\n",
       "        <Axes: title={'center': 'Basement Area (in Sqft)'}>,\n",
       "        <Axes: title={'center': 'Age of House (in Years)'}>,\n",
       "        <Axes: title={'center': 'Renovated Year'}>],\n",
       "       [<Axes: title={'center': 'Zipcode'}>,\n",
       "        <Axes: title={'center': 'Latitude'}>,\n",
       "        <Axes: title={'center': 'Longitude'}>,\n",
       "        <Axes: title={'center': 'Living Area after Renovation (in Sqft)'}>],\n",
       "       [<Axes: title={'center': 'Lot Area after Renovation (in Sqft)'}>,\n",
       "        <Axes: >, <Axes: >, <Axes: >]], dtype=object)"
      ]
     },
     "execution_count": 23,
     "metadata": {},
     "output_type": "execute_result"
    },
    {
     "data": {
      "image/png": "[encoded data removed]",
      "text/plain": [
       "<Figure size 640x480 with 20 Axes>"
      ]
     },
     "metadata": {},
     "output_type": "display_data"
    }
   ],
   "source": [
    "dt.hist(num_cols)# for determining the distribution "
   ]
  },
  {
   "cell_type": "code",
   "execution_count": 24,
   "id": "5ed9c37c-a5a8-4413-81bd-e145037ee930",
   "metadata": {},
   "outputs": [],
   "source": [
    "# for categorical for understanding\n",
    "#for col in cat_cols:\n",
    "    #plt.hist(cat_dt[col])\n",
    "    #plt.title(\"Histogram of {} coulmn\".format(col))\n",
    "    #plt.xlabel(col)\n",
    "    #plt.ylabel(\"count\")\n",
    "    #plt.show()"
   ]
  },
  {
   "cell_type": "code",
   "execution_count": 25,
   "id": "3b9de520-87d7-4c80-af2a-2a01b521de4a",
   "metadata": {},
   "outputs": [
    {
     "name": "stdout",
     "output_type": "stream",
     "text": [
      "ID                                            0.243329\n",
      "Sale Price                                    4.021472\n",
      "No of Bedrooms                                1.974300\n",
      "No of Bathrooms                               0.511220\n",
      "Flat Area (in Sqft)                           1.471812\n",
      "Lot Area (in Sqft)                           13.058057\n",
      "No of Floors                                  0.616177\n",
      "Overall Grade                                 0.321468\n",
      "Area of the House from Basement (in Sqft)     1.446744\n",
      "Basement Area (in Sqft)                       1.577965\n",
      "Age of House (in Years)                       0.469805\n",
      "Renovated Year                                4.549493\n",
      "Zipcode                                       0.405759\n",
      "Latitude                                     -0.485193\n",
      "Longitude                                     0.884982\n",
      "Living Area after Renovation (in Sqft)        1.108226\n",
      "Lot Area after Renovation (in Sqft)           9.506743\n",
      "dtype: float64\n"
     ]
    }
   ],
   "source": [
    "print(dt[num_cols].skew()) #to check the skewness\n"
   ]
  },
  {
   "cell_type": "code",
   "execution_count": 26,
   "id": "ec16f8b5-7a55-4578-b2ab-9f71d4191275",
   "metadata": {},
   "outputs": [
    {
     "name": "stdout",
     "output_type": "stream",
     "text": [
      "0.24332854761624428\n",
      "4.021472364542363\n",
      "1.97429953543601\n",
      "0.5112196479464273\n",
      "1.471811958331367\n",
      "13.058057105420472\n",
      "0.616176721157611\n",
      "0.3214683782677532\n",
      "1.4467442723078803\n",
      "1.5779650555996247\n",
      "0.4698053988143735\n",
      "4.549493366993928\n",
      "0.4057593955119597\n",
      "-0.4851934708560944\n",
      "0.8849823580033718\n",
      "1.1082255461225377\n",
      "9.506743246764398\n"
     ]
    }
   ],
   "source": [
    "for col in num_cols:\n",
    "    print(num_dt[col].skew())"
   ]
  },
  {
   "cell_type": "code",
   "execution_count": 27,
   "id": "0fa12603-89f0-4a41-a637-b78592e71d01",
   "metadata": {},
   "outputs": [],
   "source": [
    "for col in num_dt.columns:\n",
    "    if num_dt[col].skew() >= 0 and num_dt[col].skew() <= 0.5:\n",
    "        num_dt[col] = num_dt[col].fillna(num_dt[col].mean())\n",
    "    else:\n",
    "        num_dt[col] = num_dt[col].fillna(num_dt[col].median())"
   ]
  },
  {
   "cell_type": "code",
   "execution_count": 28,
   "id": "4d25d0e2-1d38-42c0-89f7-32a9117a9c4e",
   "metadata": {},
   "outputs": [],
   "source": [
    "for col in cat_dt.columns:\n",
    "    cat_dt[col] = cat_dt[col].fillna(cat_dt[col].mode()[0]) "
   ]
  },
  {
   "cell_type": "code",
   "execution_count": 29,
   "id": "d5dcdad3-256b-4c4b-a2a5-dda225ba2b26",
   "metadata": {},
   "outputs": [
    {
     "data": {
      "text/plain": [
       "Date House was Sold       0\n",
       "Waterfront View           0\n",
       "Condition of the House    0\n",
       "dtype: int64"
      ]
     },
     "execution_count": 29,
     "metadata": {},
     "output_type": "execute_result"
    }
   ],
   "source": [
    "cat_dt.isna().sum()"
   ]
  },
  {
   "cell_type": "code",
   "execution_count": 30,
   "id": "92561305-7d64-40b9-b3b1-6e58290766ea",
   "metadata": {},
   "outputs": [],
   "source": [
    "dt = pd.concat([num_dt, cat_dt], axis = 1)"
   ]
  },
  {
   "cell_type": "code",
   "execution_count": 31,
   "id": "1eaddc5a-7f77-4fec-b6da-e5d34a4cf3ca",
   "metadata": {},
   "outputs": [
    {
     "data": {
      "text/plain": [
       "ID                                           0\n",
       "Sale Price                                   0\n",
       "No of Bedrooms                               0\n",
       "No of Bathrooms                              0\n",
       "Flat Area (in Sqft)                          0\n",
       "Lot Area (in Sqft)                           0\n",
       "No of Floors                                 0\n",
       "Overall Grade                                0\n",
       "Area of the House from Basement (in Sqft)    0\n",
       "Basement Area (in Sqft)                      0\n",
       "Age of House (in Years)                      0\n",
       "Renovated Year                               0\n",
       "Zipcode                                      0\n",
       "Latitude                                     0\n",
       "Longitude                                    0\n",
       "Living Area after Renovation (in Sqft)       0\n",
       "Lot Area after Renovation (in Sqft)          0\n",
       "Date House was Sold                          0\n",
       "Waterfront View                              0\n",
       "Condition of the House                       0\n",
       "dtype: int64"
      ]
     },
     "execution_count": 31,
     "metadata": {},
     "output_type": "execute_result"
    }
   ],
   "source": [
    "dt.isna().sum()"
   ]
  },
  {
   "cell_type": "code",
   "execution_count": 32,
   "id": "4629f96f-c85d-4c51-a329-b44ceb0559e0",
   "metadata": {},
   "outputs": [
    {
     "data": {
      "text/plain": [
       "(21613, 20)"
      ]
     },
     "execution_count": 32,
     "metadata": {},
     "output_type": "execute_result"
    }
   ],
   "source": [
    "dt.shape"
   ]
  },
  {
   "cell_type": "markdown",
   "id": "b4ea5509-d45d-45de-9dfe-78aaf83f1175",
   "metadata": {},
   "source": [
    "Scaling Numerical Variables"
   ]
  },
  {
   "cell_type": "code",
   "execution_count": 33,
   "id": "a4e2985d-c685-4e4f-ac10-11a200a83b75",
   "metadata": {},
   "outputs": [],
   "source": [
    "from sklearn.preprocessing import StandardScaler, MinMaxScaler"
   ]
  },
  {
   "cell_type": "code",
   "execution_count": 34,
   "id": "0c7f7c83-4b42-4151-b9e9-df67aa896c55",
   "metadata": {},
   "outputs": [],
   "source": [
    "num_cols = dt.select_dtypes(include = ['number']).columns.tolist()"
   ]
  },
  {
   "cell_type": "code",
   "execution_count": 35,
   "id": "dec6aaba-b5f0-48f3-9ca7-78e0f4ace255",
   "metadata": {},
   "outputs": [],
   "source": [
    "num_cols.remove('Sale Price')"
   ]
  },
  {
   "cell_type": "code",
   "execution_count": 36,
   "id": "2d09e41d-2ced-46f6-8bc1-307dd07f1dbe",
   "metadata": {},
   "outputs": [],
   "source": [
    "nor_cols = dt[num_cols].skew().between(-0.5, 0.5)\n",
    "\n",
    "nor_cols = dt[num_cols].columns[nor_cols].tolist()\n"
   ]
  },
  {
   "cell_type": "code",
   "execution_count": 37,
   "id": "995918db-2290-4994-aded-c1b38d5d9ec4",
   "metadata": {},
   "outputs": [],
   "source": [
    "skw_cols = dt[num_cols].skew() > 0.5\n",
    "\n",
    "skw_cols = dt[num_cols].columns[skw_cols].to_list()"
   ]
  },
  {
   "cell_type": "code",
   "execution_count": 38,
   "id": "2a9a86c0-5fbb-4a69-98e0-7d7c51bf38d7",
   "metadata": {},
   "outputs": [],
   "source": [
    "scaler_std= StandardScaler()\n",
    "scaler_minmax = MinMaxScaler()\n"
   ]
  },
  {
   "cell_type": "code",
   "execution_count": 39,
   "id": "b772f06c-e611-4261-aba0-9c70f7a718c0",
   "metadata": {},
   "outputs": [],
   "source": [
    "dt[nor_cols] = scaler_std.fit_transform(dt[nor_cols])\n",
    "dt[skw_cols] = scaler_minmax.fit_transform(dt[skw_cols])"
   ]
  },
  {
   "cell_type": "code",
   "execution_count": 40,
   "id": "0078920e-2558-444f-bd45-e26f0d876dca",
   "metadata": {},
   "outputs": [
    {
     "data": {
      "text/html": [
       "<div>\n",
       "<style scoped>\n",
       "    .dataframe tbody tr th:only-of-type {\n",
       "        vertical-align: middle;\n",
       "    }\n",
       "\n",
       "    .dataframe tbody tr th {\n",
       "        vertical-align: top;\n",
       "    }\n",
       "\n",
       "    .dataframe thead th {\n",
       "        text-align: right;\n",
       "    }\n",
       "</style>\n",
       "<table border=\"1\" class=\"dataframe\">\n",
       "  <thead>\n",
       "    <tr style=\"text-align: right;\">\n",
       "      <th></th>\n",
       "      <th>No of Bedrooms</th>\n",
       "      <th>No of Bathrooms</th>\n",
       "      <th>Flat Area (in Sqft)</th>\n",
       "      <th>Lot Area (in Sqft)</th>\n",
       "      <th>No of Floors</th>\n",
       "      <th>Area of the House from Basement (in Sqft)</th>\n",
       "      <th>Basement Area (in Sqft)</th>\n",
       "      <th>Renovated Year</th>\n",
       "      <th>Longitude</th>\n",
       "      <th>Living Area after Renovation (in Sqft)</th>\n",
       "      <th>Lot Area after Renovation (in Sqft)</th>\n",
       "    </tr>\n",
       "  </thead>\n",
       "  <tbody>\n",
       "    <tr>\n",
       "      <th>count</th>\n",
       "      <td>21613.000000</td>\n",
       "      <td>21613.000000</td>\n",
       "      <td>21613.000000</td>\n",
       "      <td>21613.000000</td>\n",
       "      <td>21613.000000</td>\n",
       "      <td>21613.000000</td>\n",
       "      <td>21613.000000</td>\n",
       "      <td>21613.000000</td>\n",
       "      <td>21613.000000</td>\n",
       "      <td>21613.000000</td>\n",
       "      <td>21613.000000</td>\n",
       "    </tr>\n",
       "    <tr>\n",
       "      <th>mean</th>\n",
       "      <td>0.102147</td>\n",
       "      <td>0.264345</td>\n",
       "      <td>0.135084</td>\n",
       "      <td>0.008835</td>\n",
       "      <td>0.197724</td>\n",
       "      <td>0.164289</td>\n",
       "      <td>0.060479</td>\n",
       "      <td>0.041887</td>\n",
       "      <td>0.253412</td>\n",
       "      <td>0.273194</td>\n",
       "      <td>0.013919</td>\n",
       "    </tr>\n",
       "    <tr>\n",
       "      <th>std</th>\n",
       "      <td>0.028184</td>\n",
       "      <td>0.096259</td>\n",
       "      <td>0.069306</td>\n",
       "      <td>0.025090</td>\n",
       "      <td>0.215996</td>\n",
       "      <td>0.090782</td>\n",
       "      <td>0.091821</td>\n",
       "      <td>0.199345</td>\n",
       "      <td>0.116966</td>\n",
       "      <td>0.117947</td>\n",
       "      <td>0.031364</td>\n",
       "    </tr>\n",
       "    <tr>\n",
       "      <th>min</th>\n",
       "      <td>0.000000</td>\n",
       "      <td>0.000000</td>\n",
       "      <td>0.000000</td>\n",
       "      <td>0.000000</td>\n",
       "      <td>0.000000</td>\n",
       "      <td>0.000000</td>\n",
       "      <td>0.000000</td>\n",
       "      <td>0.000000</td>\n",
       "      <td>0.000000</td>\n",
       "      <td>0.000000</td>\n",
       "      <td>0.000000</td>\n",
       "    </tr>\n",
       "    <tr>\n",
       "      <th>25%</th>\n",
       "      <td>0.090909</td>\n",
       "      <td>0.218750</td>\n",
       "      <td>0.086038</td>\n",
       "      <td>0.002738</td>\n",
       "      <td>0.000000</td>\n",
       "      <td>0.098684</td>\n",
       "      <td>0.000000</td>\n",
       "      <td>0.000000</td>\n",
       "      <td>0.158638</td>\n",
       "      <td>0.187747</td>\n",
       "      <td>0.005111</td>\n",
       "    </tr>\n",
       "    <tr>\n",
       "      <th>50%</th>\n",
       "      <td>0.090909</td>\n",
       "      <td>0.281250</td>\n",
       "      <td>0.122264</td>\n",
       "      <td>0.004299</td>\n",
       "      <td>0.200000</td>\n",
       "      <td>0.139254</td>\n",
       "      <td>0.000000</td>\n",
       "      <td>0.000000</td>\n",
       "      <td>0.240033</td>\n",
       "      <td>0.247978</td>\n",
       "      <td>0.008005</td>\n",
       "    </tr>\n",
       "    <tr>\n",
       "      <th>75%</th>\n",
       "      <td>0.121212</td>\n",
       "      <td>0.312500</td>\n",
       "      <td>0.170566</td>\n",
       "      <td>0.006157</td>\n",
       "      <td>0.400000</td>\n",
       "      <td>0.210526</td>\n",
       "      <td>0.116183</td>\n",
       "      <td>0.000000</td>\n",
       "      <td>0.327243</td>\n",
       "      <td>0.337463</td>\n",
       "      <td>0.010835</td>\n",
       "    </tr>\n",
       "    <tr>\n",
       "      <th>max</th>\n",
       "      <td>1.000000</td>\n",
       "      <td>1.000000</td>\n",
       "      <td>1.000000</td>\n",
       "      <td>1.000000</td>\n",
       "      <td>1.000000</td>\n",
       "      <td>1.000000</td>\n",
       "      <td>1.000000</td>\n",
       "      <td>1.000000</td>\n",
       "      <td>1.000000</td>\n",
       "      <td>1.000000</td>\n",
       "      <td>1.000000</td>\n",
       "    </tr>\n",
       "  </tbody>\n",
       "</table>\n",
       "</div>"
      ],
      "text/plain": [
       "       No of Bedrooms  No of Bathrooms  Flat Area (in Sqft)  \\\n",
       "count    21613.000000     21613.000000         21613.000000   \n",
       "mean         0.102147         0.264345             0.135084   \n",
       "std          0.028184         0.096259             0.069306   \n",
       "min          0.000000         0.000000             0.000000   \n",
       "25%          0.090909         0.218750             0.086038   \n",
       "50%          0.090909         0.281250             0.122264   \n",
       "75%          0.121212         0.312500             0.170566   \n",
       "max          1.000000         1.000000             1.000000   \n",
       "\n",
       "       Lot Area (in Sqft)  No of Floors  \\\n",
       "count        21613.000000  21613.000000   \n",
       "mean             0.008835      0.197724   \n",
       "std              0.025090      0.215996   \n",
       "min              0.000000      0.000000   \n",
       "25%              0.002738      0.000000   \n",
       "50%              0.004299      0.200000   \n",
       "75%              0.006157      0.400000   \n",
       "max              1.000000      1.000000   \n",
       "\n",
       "       Area of the House from Basement (in Sqft)  Basement Area (in Sqft)  \\\n",
       "count                               21613.000000             21613.000000   \n",
       "mean                                    0.164289                 0.060479   \n",
       "std                                     0.090782                 0.091821   \n",
       "min                                     0.000000                 0.000000   \n",
       "25%                                     0.098684                 0.000000   \n",
       "50%                                     0.139254                 0.000000   \n",
       "75%                                     0.210526                 0.116183   \n",
       "max                                     1.000000                 1.000000   \n",
       "\n",
       "       Renovated Year     Longitude  Living Area after Renovation (in Sqft)  \\\n",
       "count    21613.000000  21613.000000                            21613.000000   \n",
       "mean         0.041887      0.253412                                0.273194   \n",
       "std          0.199345      0.116966                                0.117947   \n",
       "min          0.000000      0.000000                                0.000000   \n",
       "25%          0.000000      0.158638                                0.187747   \n",
       "50%          0.000000      0.240033                                0.247978   \n",
       "75%          0.000000      0.327243                                0.337463   \n",
       "max          1.000000      1.000000                                1.000000   \n",
       "\n",
       "       Lot Area after Renovation (in Sqft)  \n",
       "count                         21613.000000  \n",
       "mean                              0.013919  \n",
       "std                               0.031364  \n",
       "min                               0.000000  \n",
       "25%                               0.005111  \n",
       "50%                               0.008005  \n",
       "75%                               0.010835  \n",
       "max                               1.000000  "
      ]
     },
     "execution_count": 40,
     "metadata": {},
     "output_type": "execute_result"
    }
   ],
   "source": [
    "dt[nor_cols].describe()\n",
    "dt[skw_cols].describe()\n"
   ]
  },
  {
   "cell_type": "code",
   "execution_count": 41,
   "id": "89a90626-ddbb-415e-8fd3-d49de98b6159",
   "metadata": {},
   "outputs": [],
   "source": [
    "dt_scaled = pd.concat([dt[nor_cols], dt[skw_cols]], axis = 1)"
   ]
  },
  {
   "cell_type": "code",
   "execution_count": 42,
   "id": "e9c2d3ce-6d92-4bbe-88be-5508f952948a",
   "metadata": {},
   "outputs": [],
   "source": [
    "dt_sc = pd.DataFrame(dt_scaled)"
   ]
  },
  {
   "cell_type": "markdown",
   "id": "761c708c-5d59-4608-8ec1-3415f9e4c2d9",
   "metadata": {},
   "source": [
    "Encoding Categorical Variables"
   ]
  },
  {
   "cell_type": "code",
   "execution_count": 43,
   "id": "28682661-79d8-4838-a928-d000bdf7efe9",
   "metadata": {},
   "outputs": [],
   "source": [
    "cat_cols = dt.select_dtypes(include = ['object']).columns.tolist()\n"
   ]
  },
  {
   "cell_type": "code",
   "execution_count": 44,
   "id": "5bfa3070-295c-4ad0-89b1-853d169f6919",
   "metadata": {},
   "outputs": [
    {
     "data": {
      "text/plain": [
       "['Date House was Sold', 'Waterfront View', 'Condition of the House']"
      ]
     },
     "execution_count": 44,
     "metadata": {},
     "output_type": "execute_result"
    }
   ],
   "source": [
    "cat_cols"
   ]
  },
  {
   "cell_type": "code",
   "execution_count": 45,
   "id": "fb1d9e14-31e4-4471-9005-96cb42daf215",
   "metadata": {},
   "outputs": [
    {
     "data": {
      "text/plain": [
       "13"
      ]
     },
     "execution_count": 45,
     "metadata": {},
     "output_type": "execute_result"
    }
   ],
   "source": [
    "dt['Date House was Sold'].nunique()"
   ]
  },
  {
   "cell_type": "code",
   "execution_count": 46,
   "id": "426e4758-6f5c-411a-b28d-ff33465683e0",
   "metadata": {},
   "outputs": [
    {
     "data": {
      "text/plain": [
       "Date House was Sold\n",
       "15 April 2016        2231\n",
       "14 July 2017         2211\n",
       "14 June 2017         2180\n",
       "14 August 2017       1940\n",
       "14 October 2017      1878\n",
       "15 March 2016        1875\n",
       "14 September 2017    1774\n",
       "14 May 2017          1768\n",
       "14 December 2017     1471\n",
       "14 November 2017     1411\n",
       "15 February 2016     1250\n",
       "15 January 2016       978\n",
       "15 May 2016           646\n",
       "Name: count, dtype: int64"
      ]
     },
     "execution_count": 46,
     "metadata": {},
     "output_type": "execute_result"
    }
   ],
   "source": [
    "dt['Date House was Sold'].value_counts()"
   ]
  },
  {
   "cell_type": "code",
   "execution_count": 47,
   "id": "34a9326a-0274-4379-a116-a915a57db930",
   "metadata": {},
   "outputs": [],
   "source": [
    "from sklearn.preprocessing import OneHotEncoder"
   ]
  },
  {
   "cell_type": "code",
   "execution_count": 48,
   "id": "24091c41-b995-47bc-8ccc-2b043c5f3c14",
   "metadata": {},
   "outputs": [],
   "source": [
    "#dt['Date House was Sold'] = pd.to_datetime(dt['Date House was Sold'])"
   ]
  },
  {
   "cell_type": "code",
   "execution_count": 49,
   "id": "c5cee54d-7888-4a69-adb3-64f0a2bcebd5",
   "metadata": {},
   "outputs": [],
   "source": [
    "#encoder = OneHotEncoder(handle_unknown = 'ignore', sparse_output = False)\n",
    "#encoded_data = encoder.fit_transform(dt[['Date House was Sold']])\n",
    "#encoded_dt = pd.DataFrame(encoded_data)"
   ]
  },
  {
   "cell_type": "code",
   "execution_count": 50,
   "id": "7b6368da-2154-43b4-8cb9-1d4ae8d92eb8",
   "metadata": {},
   "outputs": [],
   "source": [
    "#dt = pd.concat([dt, encoded_dt], axis=1)"
   ]
  },
  {
   "cell_type": "code",
   "execution_count": 51,
   "id": "aea23644-1bff-4279-b463-0a77de1e7b32",
   "metadata": {},
   "outputs": [],
   "source": [
    "#dt = dt.drop('Date House was Sold', axis = 1)"
   ]
  },
  {
   "cell_type": "code",
   "execution_count": 52,
   "id": "633f1cf8-04c9-4cae-9e74-29ab73808fe0",
   "metadata": {},
   "outputs": [],
   "source": [
    "from sklearn.preprocessing import LabelEncoder"
   ]
  },
  {
   "cell_type": "code",
   "execution_count": 53,
   "id": "4416c4af-71fd-4531-ad4d-2a8e92cfe827",
   "metadata": {},
   "outputs": [],
   "source": [
    "Label_Encoder = LabelEncoder()"
   ]
  },
  {
   "cell_type": "code",
   "execution_count": 54,
   "id": "93c4122a-6389-4a79-9ddb-212f34e21218",
   "metadata": {},
   "outputs": [],
   "source": [
    "for col in ['Date House was Sold', 'Waterfront View', 'Condition of the House']:\n",
    "    dt[col] = Label_Encoder.fit_transform(dt[col])\n"
   ]
  },
  {
   "cell_type": "code",
   "execution_count": 55,
   "id": "38d6cc16-e930-437e-82d2-9160d002a6aa",
   "metadata": {},
   "outputs": [
    {
     "data": {
      "text/html": [
       "<div>\n",
       "<style scoped>\n",
       "    .dataframe tbody tr th:only-of-type {\n",
       "        vertical-align: middle;\n",
       "    }\n",
       "\n",
       "    .dataframe tbody tr th {\n",
       "        vertical-align: top;\n",
       "    }\n",
       "\n",
       "    .dataframe thead th {\n",
       "        text-align: right;\n",
       "    }\n",
       "</style>\n",
       "<table border=\"1\" class=\"dataframe\">\n",
       "  <thead>\n",
       "    <tr style=\"text-align: right;\">\n",
       "      <th></th>\n",
       "      <th>Date House was Sold</th>\n",
       "      <th>Waterfront View</th>\n",
       "      <th>Condition of the House</th>\n",
       "    </tr>\n",
       "  </thead>\n",
       "  <tbody>\n",
       "    <tr>\n",
       "      <th>0</th>\n",
       "      <td>6</td>\n",
       "      <td>0</td>\n",
       "      <td>2</td>\n",
       "    </tr>\n",
       "    <tr>\n",
       "      <th>1</th>\n",
       "      <td>1</td>\n",
       "      <td>0</td>\n",
       "      <td>2</td>\n",
       "    </tr>\n",
       "    <tr>\n",
       "      <th>2</th>\n",
       "      <td>9</td>\n",
       "      <td>0</td>\n",
       "      <td>2</td>\n",
       "    </tr>\n",
       "    <tr>\n",
       "      <th>3</th>\n",
       "      <td>1</td>\n",
       "      <td>0</td>\n",
       "      <td>1</td>\n",
       "    </tr>\n",
       "    <tr>\n",
       "      <th>4</th>\n",
       "      <td>9</td>\n",
       "      <td>0</td>\n",
       "      <td>2</td>\n",
       "    </tr>\n",
       "  </tbody>\n",
       "</table>\n",
       "</div>"
      ],
      "text/plain": [
       "   Date House was Sold  Waterfront View  Condition of the House\n",
       "0                    6                0                       2\n",
       "1                    1                0                       2\n",
       "2                    9                0                       2\n",
       "3                    1                0                       1\n",
       "4                    9                0                       2"
      ]
     },
     "execution_count": 55,
     "metadata": {},
     "output_type": "execute_result"
    }
   ],
   "source": [
    "dt[['Date House was Sold', 'Waterfront View', 'Condition of the House']].head()"
   ]
  },
  {
   "cell_type": "code",
   "execution_count": 56,
   "id": "cb12c903-ab49-4da4-8278-6f11bf3551ce",
   "metadata": {},
   "outputs": [],
   "source": [
    "#label_encoder = LabelEncoder()\n",
    "\n",
    "#dt['Month_Name'] = pd.to_datetime(dt['Date House was Sold']).dt.month_name()\n",
    "#dt['Weekday_Name'] = pd.to_datetime(dt['Date House was Sold']).dt.day_name()\n",
    "\n",
    "#dt['Month_Label'] = label_encoder.fit_transform(dt['Month_Name'])\n",
    "#dt['Weekday_Label'] = label_encoder.fit_transform(dt['Weekday_Name'])\n"
   ]
  },
  {
   "cell_type": "code",
   "execution_count": 57,
   "id": "cad2c4c2-72db-4fb1-a860-318dda7ee427",
   "metadata": {},
   "outputs": [],
   "source": [
    "#dt.drop(columns=['Date House was Sold', 'Weekday_Name', 'Month_Name' ], inplace=True)\n"
   ]
  },
  {
   "cell_type": "code",
   "execution_count": 58,
   "id": "6a639dd1-68bb-42af-a8a1-c50ac752d2b1",
   "metadata": {},
   "outputs": [
    {
     "data": {
      "text/html": [
       "<div>\n",
       "<style scoped>\n",
       "    .dataframe tbody tr th:only-of-type {\n",
       "        vertical-align: middle;\n",
       "    }\n",
       "\n",
       "    .dataframe tbody tr th {\n",
       "        vertical-align: top;\n",
       "    }\n",
       "\n",
       "    .dataframe thead th {\n",
       "        text-align: right;\n",
       "    }\n",
       "</style>\n",
       "<table border=\"1\" class=\"dataframe\">\n",
       "  <thead>\n",
       "    <tr style=\"text-align: right;\">\n",
       "      <th></th>\n",
       "      <th>ID</th>\n",
       "      <th>Sale Price</th>\n",
       "      <th>No of Bedrooms</th>\n",
       "      <th>No of Bathrooms</th>\n",
       "      <th>Flat Area (in Sqft)</th>\n",
       "      <th>Lot Area (in Sqft)</th>\n",
       "      <th>No of Floors</th>\n",
       "      <th>Overall Grade</th>\n",
       "      <th>Area of the House from Basement (in Sqft)</th>\n",
       "      <th>Basement Area (in Sqft)</th>\n",
       "      <th>Age of House (in Years)</th>\n",
       "      <th>Renovated Year</th>\n",
       "      <th>Zipcode</th>\n",
       "      <th>Latitude</th>\n",
       "      <th>Longitude</th>\n",
       "      <th>Living Area after Renovation (in Sqft)</th>\n",
       "      <th>Lot Area after Renovation (in Sqft)</th>\n",
       "      <th>Date House was Sold</th>\n",
       "      <th>Waterfront View</th>\n",
       "      <th>Condition of the House</th>\n",
       "    </tr>\n",
       "  </thead>\n",
       "  <tbody>\n",
       "    <tr>\n",
       "      <th>0</th>\n",
       "      <td>0.886146</td>\n",
       "      <td>221900.0</td>\n",
       "      <td>0.090909</td>\n",
       "      <td>0.12500</td>\n",
       "      <td>0.067170</td>\n",
       "      <td>0.003108</td>\n",
       "      <td>0.0</td>\n",
       "      <td>-0.564013</td>\n",
       "      <td>0.097588</td>\n",
       "      <td>0.000000</td>\n",
       "      <td>0.544898</td>\n",
       "      <td>0.000000</td>\n",
       "      <td>1.870219</td>\n",
       "      <td>-0.352545</td>\n",
       "      <td>0.217608</td>\n",
       "      <td>0.161934</td>\n",
       "      <td>0.005742</td>\n",
       "      <td>6</td>\n",
       "      <td>0</td>\n",
       "      <td>2</td>\n",
       "    </tr>\n",
       "    <tr>\n",
       "      <th>1</th>\n",
       "      <td>0.637511</td>\n",
       "      <td>538000.0</td>\n",
       "      <td>0.090909</td>\n",
       "      <td>0.28125</td>\n",
       "      <td>0.172075</td>\n",
       "      <td>0.004072</td>\n",
       "      <td>0.4</td>\n",
       "      <td>-0.564013</td>\n",
       "      <td>0.206140</td>\n",
       "      <td>0.082988</td>\n",
       "      <td>0.681079</td>\n",
       "      <td>0.988089</td>\n",
       "      <td>0.879619</td>\n",
       "      <td>1.161615</td>\n",
       "      <td>0.166113</td>\n",
       "      <td>0.222165</td>\n",
       "      <td>0.008027</td>\n",
       "      <td>1</td>\n",
       "      <td>0</td>\n",
       "      <td>2</td>\n",
       "    </tr>\n",
       "    <tr>\n",
       "      <th>2</th>\n",
       "      <td>0.365444</td>\n",
       "      <td>180000.0</td>\n",
       "      <td>0.060606</td>\n",
       "      <td>0.12500</td>\n",
       "      <td>0.036226</td>\n",
       "      <td>0.005743</td>\n",
       "      <td>0.0</td>\n",
       "      <td>-1.468651</td>\n",
       "      <td>0.052632</td>\n",
       "      <td>0.000000</td>\n",
       "      <td>1.293892</td>\n",
       "      <td>0.000000</td>\n",
       "      <td>-0.933365</td>\n",
       "      <td>1.283585</td>\n",
       "      <td>0.237542</td>\n",
       "      <td>0.399415</td>\n",
       "      <td>0.008513</td>\n",
       "      <td>9</td>\n",
       "      <td>0</td>\n",
       "      <td>2</td>\n",
       "    </tr>\n",
       "    <tr>\n",
       "      <th>3</th>\n",
       "      <td>-0.727656</td>\n",
       "      <td>604000.0</td>\n",
       "      <td>0.121212</td>\n",
       "      <td>0.37500</td>\n",
       "      <td>0.126038</td>\n",
       "      <td>0.002714</td>\n",
       "      <td>0.0</td>\n",
       "      <td>-0.564013</td>\n",
       "      <td>0.083333</td>\n",
       "      <td>0.188797</td>\n",
       "      <td>0.204446</td>\n",
       "      <td>0.000000</td>\n",
       "      <td>1.085216</td>\n",
       "      <td>-0.283260</td>\n",
       "      <td>0.104651</td>\n",
       "      <td>0.165376</td>\n",
       "      <td>0.004996</td>\n",
       "      <td>1</td>\n",
       "      <td>0</td>\n",
       "      <td>1</td>\n",
       "    </tr>\n",
       "    <tr>\n",
       "      <th>4</th>\n",
       "      <td>-0.912881</td>\n",
       "      <td>510000.0</td>\n",
       "      <td>0.090909</td>\n",
       "      <td>0.25000</td>\n",
       "      <td>0.104906</td>\n",
       "      <td>0.004579</td>\n",
       "      <td>0.0</td>\n",
       "      <td>0.340626</td>\n",
       "      <td>0.152412</td>\n",
       "      <td>0.000000</td>\n",
       "      <td>-0.544548</td>\n",
       "      <td>0.000000</td>\n",
       "      <td>-0.073599</td>\n",
       "      <td>0.409587</td>\n",
       "      <td>0.393688</td>\n",
       "      <td>0.241094</td>\n",
       "      <td>0.007871</td>\n",
       "      <td>9</td>\n",
       "      <td>0</td>\n",
       "      <td>2</td>\n",
       "    </tr>\n",
       "  </tbody>\n",
       "</table>\n",
       "</div>"
      ],
      "text/plain": [
       "         ID  Sale Price  No of Bedrooms  No of Bathrooms  Flat Area (in Sqft)  \\\n",
       "0  0.886146    221900.0        0.090909          0.12500             0.067170   \n",
       "1  0.637511    538000.0        0.090909          0.28125             0.172075   \n",
       "2  0.365444    180000.0        0.060606          0.12500             0.036226   \n",
       "3 -0.727656    604000.0        0.121212          0.37500             0.126038   \n",
       "4 -0.912881    510000.0        0.090909          0.25000             0.104906   \n",
       "\n",
       "   Lot Area (in Sqft)  No of Floors  Overall Grade  \\\n",
       "0            0.003108           0.0      -0.564013   \n",
       "1            0.004072           0.4      -0.564013   \n",
       "2            0.005743           0.0      -1.468651   \n",
       "3            0.002714           0.0      -0.564013   \n",
       "4            0.004579           0.0       0.340626   \n",
       "\n",
       "   Area of the House from Basement (in Sqft)  Basement Area (in Sqft)  \\\n",
       "0                                   0.097588                 0.000000   \n",
       "1                                   0.206140                 0.082988   \n",
       "2                                   0.052632                 0.000000   \n",
       "3                                   0.083333                 0.188797   \n",
       "4                                   0.152412                 0.000000   \n",
       "\n",
       "   Age of House (in Years)  Renovated Year   Zipcode  Latitude  Longitude  \\\n",
       "0                 0.544898        0.000000  1.870219 -0.352545   0.217608   \n",
       "1                 0.681079        0.988089  0.879619  1.161615   0.166113   \n",
       "2                 1.293892        0.000000 -0.933365  1.283585   0.237542   \n",
       "3                 0.204446        0.000000  1.085216 -0.283260   0.104651   \n",
       "4                -0.544548        0.000000 -0.073599  0.409587   0.393688   \n",
       "\n",
       "   Living Area after Renovation (in Sqft)  \\\n",
       "0                                0.161934   \n",
       "1                                0.222165   \n",
       "2                                0.399415   \n",
       "3                                0.165376   \n",
       "4                                0.241094   \n",
       "\n",
       "   Lot Area after Renovation (in Sqft)  Date House was Sold  Waterfront View  \\\n",
       "0                             0.005742                    6                0   \n",
       "1                             0.008027                    1                0   \n",
       "2                             0.008513                    9                0   \n",
       "3                             0.004996                    1                0   \n",
       "4                             0.007871                    9                0   \n",
       "\n",
       "   Condition of the House  \n",
       "0                       2  \n",
       "1                       2  \n",
       "2                       2  \n",
       "3                       1  \n",
       "4                       2  "
      ]
     },
     "execution_count": 58,
     "metadata": {},
     "output_type": "execute_result"
    }
   ],
   "source": [
    "dt.head()"
   ]
  },
  {
   "cell_type": "markdown",
   "id": "ac27a356-d085-4fdb-813f-99903b5f8e85",
   "metadata": {},
   "source": [
    "Outlier Removal"
   ]
  },
  {
   "cell_type": "code",
   "execution_count": 59,
   "id": "211086cc-e5cc-49b6-9c50-2a210783dd74",
   "metadata": {},
   "outputs": [
    {
     "data": {
      "image/png": "[encoded data removed]",
      "text/plain": [
       "<Figure size 640x480 with 1 Axes>"
      ]
     },
     "metadata": {},
     "output_type": "display_data"
    }
   ],
   "source": [
    "dt.boxplot()\n",
    "plt.xticks(rotation = 45)\n",
    "plt.show()"
   ]
  },
  {
   "cell_type": "code",
   "execution_count": 60,
   "id": "7b71911e-fe1a-4a47-997b-142c47e38f4e",
   "metadata": {},
   "outputs": [],
   "source": [
    "def remove_outliers(dt, column):\n",
    "    \n",
    "    Q1 = dt[column].quantile(0.25)\n",
    "    Q3 = dt[column].quantile(0.75)\n",
    "    IQR = Q3 - Q1\n",
    "        \n",
    "    lower_bound = Q1 - 1.5 * IQR\n",
    "    upper_bound = Q3 + 1.5 * IQR\n",
    "\n",
    "    dt[column] = dt[column].clip(upper = upper_bound)\n",
    "    dt[column] = dt[column].clip(lower = lower_bound)\n",
    "        \n",
    "    return dt[column]\n",
    "\n",
    "    "
   ]
  },
  {
   "cell_type": "code",
   "execution_count": 61,
   "id": "ad418182-b5ce-428e-8970-94fb9058c498",
   "metadata": {},
   "outputs": [],
   "source": [
    "num_dt = dt.select_dtypes(include = ['number'])"
   ]
  },
  {
   "cell_type": "code",
   "execution_count": 62,
   "id": "999a8134-7204-4868-bcdb-ffc7cd423248",
   "metadata": {},
   "outputs": [],
   "source": [
    "for col in num_dt:\n",
    "    num_dt[col] = remove_outliers(num_dt, col)"
   ]
  },
  {
   "cell_type": "code",
   "execution_count": 63,
   "id": "79cc589b-a847-4ea0-afb0-903b96ae0762",
   "metadata": {},
   "outputs": [],
   "source": [
    "dt = pd.DataFrame(num_dt, columns = num_dt.columns)"
   ]
  },
  {
   "cell_type": "markdown",
   "id": "fa0926ca-9473-4749-beb2-7f0b1b263346",
   "metadata": {},
   "source": [
    "Train-Test Split"
   ]
  },
  {
   "cell_type": "code",
   "execution_count": 64,
   "id": "9ce4a6be-6cf1-4986-b002-f69bb5e1675b",
   "metadata": {},
   "outputs": [],
   "source": [
    "from sklearn.model_selection import train_test_split"
   ]
  },
  {
   "cell_type": "code",
   "execution_count": 65,
   "id": "05ef4ad4-1e7e-4c65-9670-8d7f99a61f91",
   "metadata": {},
   "outputs": [],
   "source": [
    "y = dt['Sale Price']\n",
    "X = dt.drop(['Sale Price'], axis = 1)"
   ]
  },
  {
   "cell_type": "code",
   "execution_count": 69,
   "id": "4e0a4eb5-ff87-489d-9525-0f9054c3d9cb",
   "metadata": {},
   "outputs": [],
   "source": [
    "X_train, X_test, y_train, y_test = train_test_split(X, y, test_size=0.2, random_state = 42)"
   ]
  },
  {
   "cell_type": "code",
   "execution_count": 70,
   "id": "cbb177b6-aeb6-419f-86d1-92f7b2f67d74",
   "metadata": {},
   "outputs": [
    {
     "name": "stdout",
     "output_type": "stream",
     "text": [
      "Training set shape: (17290, 19) (17290,)\n",
      "Testing set shape: (4323, 19) (4323,)\n"
     ]
    }
   ],
   "source": [
    "print(\"Training set shape:\", X_train.shape, y_train.shape)\n",
    "print(\"Testing set shape:\", X_test.shape, y_test.shape)\n"
   ]
  },
  {
   "cell_type": "code",
   "execution_count": 68,
   "id": "5cc57894-9916-42cb-a013-9309d6168fdf",
   "metadata": {},
   "outputs": [
    {
     "data": {
      "text/plain": [
       "ID                                           0\n",
       "Sale Price                                   0\n",
       "No of Bedrooms                               0\n",
       "No of Bathrooms                              0\n",
       "Flat Area (in Sqft)                          0\n",
       "Lot Area (in Sqft)                           0\n",
       "No of Floors                                 0\n",
       "Overall Grade                                0\n",
       "Area of the House from Basement (in Sqft)    0\n",
       "Basement Area (in Sqft)                      0\n",
       "Age of House (in Years)                      0\n",
       "Renovated Year                               0\n",
       "Zipcode                                      0\n",
       "Latitude                                     0\n",
       "Longitude                                    0\n",
       "Living Area after Renovation (in Sqft)       0\n",
       "Lot Area after Renovation (in Sqft)          0\n",
       "Date House was Sold                          0\n",
       "Waterfront View                              0\n",
       "Condition of the House                       0\n",
       "dtype: int64"
      ]
     },
     "execution_count": 68,
     "metadata": {},
     "output_type": "execute_result"
    }
   ],
   "source": [
    "dt.isna().sum()"
   ]
  },
  {
   "cell_type": "code",
   "execution_count": null,
   "id": "a1367e0e-5576-44ad-bcdf-23751fb0db3c",
   "metadata": {},
   "outputs": [],
   "source": []
  }
 ],
 "metadata": {
  "kernelspec": {
   "display_name": "Python 3 (ipykernel)",
   "language": "python",
   "name": "python3"
  },
  "language_info": {
   "codemirror_mode": {
    "name": "ipython",
    "version": 3
   },
   "file_extension": ".py",
   "mimetype": "text/x-python",
   "name": "python",
   "nbconvert_exporter": "python",
   "pygments_lexer": "ipython3",
   "version": "3.12.7"
  }
 },
 "nbformat": 4,
 "nbformat_minor": 5
}
